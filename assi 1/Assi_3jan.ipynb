{
 "cells": [
  {
   "cell_type": "code",
   "execution_count": 1,
   "metadata": {},
   "outputs": [
    {
     "name": "stdout",
     "output_type": "stream",
     "text": [
      "Current Date: 3 January 2022\n"
     ]
    }
   ],
   "source": [
    "Date=\"3\"\n",
    "Month=\"January\"\n",
    "Year=\"2022\"\n",
    "print(\"Current Date:\",Date,Month,Year)"
   ]
  },
  {
   "cell_type": "code",
   "execution_count": 2,
   "metadata": {},
   "outputs": [
    {
     "name": "stdout",
     "output_type": "stream",
     "text": [
      "Enter Radius of a Circle: 3\n",
      "Area of a circle is:  28.26\n"
     ]
    }
   ],
   "source": [
    "#Area of a CirCle A=Pi*r**2\n",
    "Radius=int(input(\"Enter Radius of a Circle: \"))\n",
    "Pi=3.14\n",
    "A=Pi*Radius**2\n",
    "print(\"Area of a circle is: \", A)"
   ]
  },
  {
   "cell_type": "code",
   "execution_count": 3,
   "metadata": {},
   "outputs": [
    {
     "name": "stdout",
     "output_type": "stream",
     "text": [
      "Enter your First Name: Asra\n",
      "Enter your Last Name:Aijaz\n",
      "Reversed Name is: Aijaz   Asra\n"
     ]
    }
   ],
   "source": [
    "First_Name=input(\"Enter your First Name: \")\n",
    "Last_Name=input(\"Enter your Last Name:\")\n",
    "print(\"Reversed Name is:\", Last_Name,\" \",First_Name)"
   ]
  },
  {
   "cell_type": "code",
   "execution_count": 4,
   "metadata": {},
   "outputs": [
    {
     "name": "stdout",
     "output_type": "stream",
     "text": [
      "Enter 1st No For addition: 5\n",
      "Enter 2nd num For addition: 6\n",
      "Result= 11\n"
     ]
    }
   ],
   "source": [
    "num1=int(input(\"Enter 1st No For addition: \"))\n",
    "num2=int(input(\"Enter 2nd num For addition: \"))\n",
    "Addition=num1 + num2\n",
    "print(\"Result=\", Addition)"
   ]
  },
  {
   "cell_type": "code",
   "execution_count": 10,
   "metadata": {},
   "outputs": [
    {
     "name": "stdout",
     "output_type": "stream",
     "text": [
      "Twinkle,twinkle little star, \n",
      "\t How I wondar whay you are! \n",
      "\t\t Up above the world so high \n",
      "\t\t Like a diamond in the sky. \n",
      " Twinkle,twinkle,little star,\n",
      "\t How I wondar what you are \n"
     ]
    }
   ],
   "source": [
    "print(\"Twinkle,twinkle little star, \\n\\t How I wondar whay you are! \\n\\t\\t Up above the world so high \\n\\t\\t Like a diamond in the sky. \\n Twinkle,twinkle,little star,\\n\\t How I wondar what you are \")"
   ]
  },
  {
   "cell_type": "code",
   "execution_count": 2,
   "metadata": {},
   "outputs": [
    {
     "name": "stdout",
     "output_type": "stream",
     "text": [
      "3.8.5 (default, Sep  3 2020, 21:29:08) [MSC v.1916 64 bit (AMD64)]\n"
     ]
    }
   ],
   "source": [
    "import sys\n",
    "print(sys.version)"
   ]
  },
  {
   "cell_type": "code",
   "execution_count": null,
   "metadata": {},
   "outputs": [],
   "source": []
  }
 ],
 "metadata": {
  "kernelspec": {
   "display_name": "Python 3",
   "language": "python",
   "name": "python3"
  },
  "language_info": {
   "codemirror_mode": {
    "name": "ipython",
    "version": 3
   },
   "file_extension": ".py",
   "mimetype": "text/x-python",
   "name": "python",
   "nbconvert_exporter": "python",
   "pygments_lexer": "ipython3",
   "version": "3.8.5"
  }
 },
 "nbformat": 4,
 "nbformat_minor": 4
}
